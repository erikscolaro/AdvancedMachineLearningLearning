{
  "nbformat": 4,
  "nbformat_minor": 0,
  "metadata": {
    "colab": {
      "provenance": [],
      "gpuType": "T4"
    },
    "kernelspec": {
      "name": "python3",
      "display_name": "Python 3"
    },
    "language_info": {
      "name": "python"
    },
    "accelerator": "GPU"
  },
  "cells": [
    {
      "cell_type": "markdown",
      "source": [
        "### PyTorch DataLoader Exercises\n",
        "\n",
        "Welcome to the PyTorchDataLoader exercise template notebook.\n",
        "\n",
        "There are several questions in this notebook and it's your goal to answer them by writing Python and PyTorch code.\n",
        "\n",
        "> **Note:** There may be more than one solution to each of the exercises, don't worry too much about the *exact* right answer. Try to write some code that works first and then improve it if you can.\n",
        "\n"
      ],
      "metadata": {
        "id": "six2QUT2I3_x"
      }
    },
    {
      "cell_type": "code",
      "execution_count": null,
      "metadata": {
        "id": "QyCieCF1ZEgL"
      },
      "outputs": [],
      "source": [
        "# Import necessary libraries\n",
        "import os\n",
        "import torch\n",
        "import torchvision\n",
        "import torchvision.transforms as transforms\n",
        "from torch.utils.data import DataLoader\n",
        "from torchvision.datasets import ImageFolder\n",
        "import matplotlib.pyplot as plt\n",
        "import requests\n",
        "from zipfile import ZipFile\n",
        "from io import BytesIO\n",
        "import numpy as np\n",
        "\n",
        "# Define the path to the dataset\n",
        "dataset_path = 'http://cs231n.stanford.edu/tiny-imagenet-200.zip'  # Replace with the path to your dataset\n",
        "\n",
        "# Send a GET request to the URL\n",
        "response = requests.get(dataset_path)\n",
        "# Check if the request was successful\n",
        "if response.status_code == 200:\n",
        "    # Open the downloaded bytes and extract them\n",
        "    with ZipFile(BytesIO(response.content)) as zip_file:\n",
        "        zip_file.extractall('/dataset')\n",
        "    print('Download and extraction complete!')\n",
        "\n",
        "# Define transformations for the dataset\n",
        "#transform = ...\n",
        "\n",
        "# Load the dataset\n",
        "tiny_imagenet_dataset_train = ImageFolder(root='/dataset/tiny-imagenet-200/train', transform=transform)\n",
        "tiny_imagenet_dataset_test = ImageFolder(root='/dataset/tiny-imagenet-200/test', transform=transform)\n",
        "\n",
        "# Create a DataLoader\n",
        "#dataloader_train = ...\n",
        "#dataloader_test = ...\n",
        "\n",
        "# Determine the number of classes and samples\n",
        "num_classes = len(tiny_imagenet_dataset_train.classes)\n",
        "num_samples = len(tiny_imagenet_dataset_train)\n",
        "\n",
        "print(f'Number of classes: {num_classes}')\n",
        "print(f'Number of samples: {num_samples}')\n",
        "\n",
        "# Function to denormalize image for visualization\n",
        "def denormalize(image):\n",
        "    image = image.to('cpu').numpy().transpose((1, 2, 0))\n",
        "    mean = np.array([0.485, 0.456, 0.406])\n",
        "    std = np.array([0.229, 0.224, 0.225])\n",
        "    image = image * std + mean\n",
        "    image = np.clip(image, 0, 1)\n",
        "    return image\n",
        "\n",
        "# Visualize one example for each class for 10 classes\n",
        "fig, axes = plt.subplots(2, 5, figsize=(15, 6))\n",
        "classes_sampled = []\n",
        "found_classes = 0\n",
        "\n",
        "for i, (inputs, classes) in enumerate(dataloader_train):\n",
        "    # todo\n",
        "\n",
        "plt.show()\n"
      ]
    }
  ]
}